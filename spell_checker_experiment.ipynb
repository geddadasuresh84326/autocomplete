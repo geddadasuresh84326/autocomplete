{
 "cells": [
  {
   "cell_type": "markdown",
   "metadata": {},
   "source": [
    "### Spell check"
   ]
  },
  {
   "cell_type": "code",
   "execution_count": 25,
   "metadata": {},
   "outputs": [],
   "source": [
    "from spellchecker import SpellChecker\n",
    "import json"
   ]
  },
  {
   "cell_type": "code",
   "execution_count": 79,
   "metadata": {},
   "outputs": [
    {
     "name": "stdout",
     "output_type": "stream",
     "text": [
      "unknown words :  {'abc'}\n",
      "known words :  {'you', 'hi'}\n",
      "wearing\n"
     ]
    }
   ],
   "source": [
    "spell = SpellChecker(distance=1)\n",
    "\n",
    "\n",
    "# find those words from a list of words that are not found in the dictionary\n",
    "unknown = spell.unknown(['abc','hi','you'])\n",
    "\n",
    "# find those words from a list of words that are  found in the dictionary\n",
    "known = spell.known(['abc','hi','you'])\n",
    "spell.word_frequency.remove(\"waring\")\n",
    "print(\"unknown words : \",unknown)\n",
    "print(\"known words : \",known)\n",
    "\n",
    "# provides one correct suggestion\n",
    "print(spell.correction(\"waring\"))\n",
    "\n",
    "# provides possible suggestions\n",
    "cands = spell.candidates(\"waring\")\n",
    "\n",
    "\n",
    "    "
   ]
  },
  {
   "cell_type": "code",
   "execution_count": 81,
   "metadata": {},
   "outputs": [
    {
     "name": "stdout",
     "output_type": "stream",
     "text": [
      "('wearing', ['wearing'])\n"
     ]
    }
   ],
   "source": [
    "def suggestions(word):\n",
    "    if spell.known([word]):\n",
    "        return 1\n",
    "    else:\n",
    "        word = spell.correction(word)\n",
    "        words = spell.candidates(word)\n",
    "        result = []\n",
    "        for word in words:\n",
    "            if word.startswith(word[:1]):\n",
    "                result.append(word)\n",
    "                \n",
    "        return  word,result\n",
    "\n",
    "result = suggestions('waring')\n",
    "print(result)"
   ]
  },
  {
   "cell_type": "code",
   "execution_count": 21,
   "metadata": {},
   "outputs": [
    {
     "data": {
      "text/plain": [
       "8745"
      ]
     },
     "execution_count": 21,
     "metadata": {},
     "output_type": "execute_result"
    }
   ],
   "source": [
    "spell['replacement']"
   ]
  },
  {
   "cell_type": "code",
   "execution_count": 15,
   "metadata": {},
   "outputs": [
    {
     "data": {
      "text/plain": [
       "138581"
      ]
     },
     "execution_count": 15,
     "metadata": {},
     "output_type": "execute_result"
    }
   ],
   "source": [
    "i = 0\n",
    "for word in spell:\n",
    "    # print(\"{}: {}\".format(word, spell[word]))\n",
    "    i +=1\n",
    "i"
   ]
  },
  {
   "cell_type": "markdown",
   "metadata": {},
   "source": [
    "### Adding custom data to spell checker"
   ]
  },
  {
   "cell_type": "code",
   "execution_count": 31,
   "metadata": {},
   "outputs": [],
   "source": [
    "with open (\"custom_dict.json\",'r') as file:\n",
    "    custom_words_data = json.load(file)\n",
    "    for word in custom_words_data['words']:\n",
    "        spell.word_frequency.add(word)\n"
   ]
  },
  {
   "cell_type": "code",
   "execution_count": 32,
   "metadata": {},
   "outputs": [
    {
     "data": {
      "text/plain": [
       "138584"
      ]
     },
     "execution_count": 32,
     "metadata": {},
     "output_type": "execute_result"
    }
   ],
   "source": [
    "i = 0\n",
    "for word in spell:\n",
    "    # print(\"{}: {}\".format(word, spell[word]))\n",
    "    i +=1\n",
    "i"
   ]
  },
  {
   "cell_type": "markdown",
   "metadata": {},
   "source": [
    "### custome data preparation"
   ]
  },
  {
   "cell_type": "code",
   "execution_count": 38,
   "metadata": {},
   "outputs": [
    {
     "name": "stdout",
     "output_type": "stream",
     "text": [
      "splits :  [('', 'arun'), ('a', 'run'), ('ar', 'un'), ('aru', 'n'), ('arun', '')]\n",
      "deletes : 4 \n",
      " ['run', 'aun', 'arn', 'aru']\n",
      "transposes : 3\n",
      " ['raun', 'aurn', 'arnu']\n",
      "replaces : 104 \n",
      " ['arun', 'brun', 'crun', 'drun', 'erun', 'frun', 'grun', 'hrun', 'irun', 'jrun', 'krun', 'lrun', 'mrun', 'nrun', 'orun', 'prun', 'qrun', 'rrun', 'srun', 'trun', 'urun', 'vrun', 'wrun', 'xrun', 'yrun', 'zrun', 'aaun', 'abun', 'acun', 'adun', 'aeun', 'afun', 'agun', 'ahun', 'aiun', 'ajun', 'akun', 'alun', 'amun', 'anun', 'aoun', 'apun', 'aqun', 'arun', 'asun', 'atun', 'auun', 'avun', 'awun', 'axun', 'ayun', 'azun', 'aran', 'arbn', 'arcn', 'ardn', 'aren', 'arfn', 'argn', 'arhn', 'arin', 'arjn', 'arkn', 'arln', 'armn', 'arnn', 'aron', 'arpn', 'arqn', 'arrn', 'arsn', 'artn', 'arun', 'arvn', 'arwn', 'arxn', 'aryn', 'arzn', 'arua', 'arub', 'aruc', 'arud', 'arue', 'aruf', 'arug', 'aruh', 'arui', 'aruj', 'aruk', 'arul', 'arum', 'arun', 'aruo', 'arup', 'aruq', 'arur', 'arus', 'arut', 'aruu', 'aruv', 'aruw', 'arux', 'aruy', 'aruz']\n",
      "replaces : 130 \n",
      " ['aarun', 'barun', 'carun', 'darun', 'earun', 'farun', 'garun', 'harun', 'iarun', 'jarun', 'karun', 'larun', 'marun', 'narun', 'oarun', 'parun', 'qarun', 'rarun', 'sarun', 'tarun', 'uarun', 'varun', 'warun', 'xarun', 'yarun', 'zarun', 'aarun', 'abrun', 'acrun', 'adrun', 'aerun', 'afrun', 'agrun', 'ahrun', 'airun', 'ajrun', 'akrun', 'alrun', 'amrun', 'anrun', 'aorun', 'aprun', 'aqrun', 'arrun', 'asrun', 'atrun', 'aurun', 'avrun', 'awrun', 'axrun', 'ayrun', 'azrun', 'araun', 'arbun', 'arcun', 'ardun', 'areun', 'arfun', 'argun', 'arhun', 'ariun', 'arjun', 'arkun', 'arlun', 'armun', 'arnun', 'aroun', 'arpun', 'arqun', 'arrun', 'arsun', 'artun', 'aruun', 'arvun', 'arwun', 'arxun', 'aryun', 'arzun', 'aruan', 'arubn', 'arucn', 'arudn', 'aruen', 'arufn', 'arugn', 'aruhn', 'aruin', 'arujn', 'arukn', 'aruln', 'arumn', 'arunn', 'aruon', 'arupn', 'aruqn', 'arurn', 'arusn', 'arutn', 'aruun', 'aruvn', 'aruwn', 'aruxn', 'aruyn', 'aruzn', 'aruna', 'arunb', 'arunc', 'arund', 'arune', 'arunf', 'arung', 'arunh', 'aruni', 'arunj', 'arunk', 'arunl', 'arunm', 'arunn', 'aruno', 'arunp', 'arunq', 'arunr', 'aruns', 'arunt', 'arunu', 'arunv', 'arunw', 'arunx', 'aruny', 'arunz']\n"
     ]
    }
   ],
   "source": [
    "word = \"arun\"\n",
    "alphabet = \"abcdefghijklmnopqrstuvwxyz\"\n",
    "splits = [(word[:i],word[i:]) for i in range(len(word)+1)]\n",
    "print(\"splits : \",splits)\n",
    "deletes = [left + right[1:] for left ,right in splits if right]\n",
    "print(f\"deletes : {len(deletes)} \\n {deletes}\")\n",
    "transposes = [left + right[1] + right[0] + right[2:] for left , right in splits if len(right)>1]\n",
    "print(f\"transposes : {len(transposes)}\\n {transposes}\")\n",
    "replaces = [left + c + right[1:] for left, right in splits if right for c in alphabet]\n",
    "print(f\"replaces : {len(replaces)} \\n {replaces}\")\n",
    "inserts = [left + c + right for left, right in splits for c in alphabet]\n",
    "print(f\"replaces : {len(inserts)} \\n {inserts}\")"
   ]
  },
  {
   "cell_type": "code",
   "execution_count": 39,
   "metadata": {},
   "outputs": [
    {
     "name": "stdout",
     "output_type": "stream",
     "text": [
      "234\n"
     ]
    }
   ],
   "source": [
    "dictionary = set(deletes + transposes + replaces + inserts)\n",
    "print(len(dictionary))"
   ]
  },
  {
   "cell_type": "code",
   "execution_count": 59,
   "metadata": {},
   "outputs": [
    {
     "name": "stdout",
     "output_type": "stream",
     "text": [
      "Corrected word for 'injictor': injector\n"
     ]
    }
   ],
   "source": [
    "class Checker():\n",
    "    def __init__(self,word_list):\n",
    "        self.words = word_list\n",
    "    \n",
    "    def _edits1(self, word):\n",
    "        alphabet = \"abcdefghijklmnopqrstuvwxyz\"\n",
    "        splits = [(word[:i],word[i:]) for i in range(len(word)+1)]\n",
    "        deletes = [left + right[1:] for left ,right in splits if right]\n",
    "        transposes = [left + right[1] + right[0] + right[2:] for left , right in splits if len(right)>1]\n",
    "        replaces = [left + c + right[1:] for left, right in splits if right for c in alphabet]\n",
    "        inserts = [left + c + right for left, right in splits for c in alphabet]\n",
    "\n",
    "        return  set(deletes + transposes + replaces + inserts)\n",
    "\n",
    "    def _known_edits2(self,word):\n",
    "        return set(e2 for e1 in self._edits1(word) for e2 in self._edits1(e1) if e2 in self.words)\n",
    "\n",
    "    def _known(self,words):\n",
    "        return set(w for w in words if w in self.words)\n",
    "    \n",
    "    def correct(self,word):\n",
    "        candidates = self._known([word]) or self._known(self._edits1(word)) or self._known_edits2(word) or [word]\n",
    "        return max(candidates, key=lambda x: self.words)\n",
    "    \n",
    "\n",
    "word_list = {\"apple\", \"banana\", \"orange\", \"grape\", \"peach\",\"replacement\",\"injector\"}  # Sample dictionary of valid words\n",
    "spell_checker = Checker(word_list)\n",
    "\n",
    "word = \"injictor\"\n",
    "corrected_word = spell_checker.correct(word)\n",
    "print(f\"Corrected word for '{word}': {corrected_word}\")"
   ]
  },
  {
   "cell_type": "markdown",
   "metadata": {},
   "source": [
    "## textblob"
   ]
  },
  {
   "cell_type": "code",
   "execution_count": 82,
   "metadata": {},
   "outputs": [],
   "source": [
    "from textblob import TextBlob"
   ]
  },
  {
   "cell_type": "code",
   "execution_count": 83,
   "metadata": {},
   "outputs": [],
   "source": [
    "def text_correction(word):\n",
    "    tb = TextBlob(word)\n",
    "    correction = tb.correct()\n",
    "\n",
    "    return correction"
   ]
  },
  {
   "cell_type": "code",
   "execution_count": 97,
   "metadata": {},
   "outputs": [
    {
     "data": {
      "text/plain": [
       "TextBlob(\"cooling\")"
      ]
     },
     "execution_count": 97,
     "metadata": {},
     "output_type": "execute_result"
    }
   ],
   "source": [
    "result = text_correction(\"coolint\")\n",
    "result.correct()"
   ]
  }
 ],
 "metadata": {
  "kernelspec": {
   "display_name": "Python 3",
   "language": "python",
   "name": "python3"
  },
  "language_info": {
   "codemirror_mode": {
    "name": "ipython",
    "version": 3
   },
   "file_extension": ".py",
   "mimetype": "text/x-python",
   "name": "python",
   "nbconvert_exporter": "python",
   "pygments_lexer": "ipython3",
   "version": "3.8.19"
  }
 },
 "nbformat": 4,
 "nbformat_minor": 2
}
